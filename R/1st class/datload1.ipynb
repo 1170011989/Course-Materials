{
 "cells": [
  {
   "cell_type": "code",
   "execution_count": 53,
   "metadata": {},
   "outputs": [
    {
     "name": "stdout",
     "output_type": "stream",
     "text": [
      "    X1  X2\n",
      "1    1   1\n",
      "2    2   1\n",
      "3    3   1\n",
      "4    4   1\n",
      "5    5   1\n",
      "6    6   1\n",
      "7    1   2\n",
      "8    2   2\n",
      "9    3   2\n",
      "10   4   2\n",
      "11   5   2\n",
      "12   6   2\n",
      "13   1   3\n",
      "14   2   3\n",
      "15   3   3\n",
      "16   4   3\n",
      "17   5   3\n",
      "18   6   3\n",
      "19   1   4\n",
      "20   2   4\n",
      "21   3   4\n",
      "22   4   4\n",
      "23   5   4\n",
      "24   6   4\n",
      "25   1   5\n",
      "26   2   5\n",
      "27   3   5\n",
      "28   4   5\n",
      "29   5   5\n",
      "30   6   5\n",
      "31   1   6\n",
      "32   2   6\n",
      "33   3   6\n",
      "34   4   6\n",
      "35   5   6\n",
      "36   6   6\n"
     ]
    }
   ],
   "source": [
    "import pandas as pd\n",
    "import numpy as np\n",
    "a=r.S\n",
    "print(a)"
   ]
  }
 ],
 "metadata": {
  "kernelspec": {
   "display_name": "Python 3",
   "language": "python",
   "name": "python3"
  },
  "language_info": {
   "codemirror_mode": {
    "name": "ipython",
    "version": 3
   },
   "file_extension": ".py",
   "mimetype": "text/x-python",
   "name": "python",
   "nbconvert_exporter": "python",
   "pygments_lexer": "ipython3",
   "version": "3.8.2"
  }
 },
 "nbformat": 4,
 "nbformat_minor": 4
}
