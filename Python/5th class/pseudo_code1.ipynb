{
 "cells": [
  {
   "cell_type": "code",
   "execution_count": null,
   "metadata": {},
   "outputs": [],
   "source": [
    "import scipy.stats as spt\n",
    "import numpy as np\n",
    "import pandas as pd\n",
    "import statsmodels.api as sm\n",
    "from statsmodels.formula.api import ols\n",
    "from statsmodels.stats.anova import anova_lm"
   ]
  },
  {
   "cell_type": "code",
   "execution_count": null,
   "metadata": {},
   "outputs": [],
   "source": [
    "data2=pd.read_csv('score2.csv')\n",
    "\n",
    "print(spt.shapiro(data2.SCORE[data2.GRADE=='fre']),'\\n')\n",
    "print(spt.shapiro(data2.SCORE[data2.GRADE=='sop']),'\\n')\n",
    "print(spt.shapiro(data2.SCORE[data2.GRADE=='jun']),'\\n')\n",
    "print(spt.shapiro(data2.SCORE[data2.GRADE=='sen']),'\\n')\n",
    "\n",
    "print(spt.levene(data2.SCORE[data2.GRADE=='fre'],data2.SCORE[data2.GRADE=='sop'],\n",
    "                 data2.SCORE[data2.GRADE=='jun'],data2.SCORE[data2.GRADE=='sen']),'\\n')\n",
    "\n",
    "print(spt.bartlett(data2.SCORE[data2.GRADE=='fre'],data2.SCORE[data2.GRADE=='sop'],\n",
    "                   data2.SCORE[data2.GRADE=='jun'],data2.SCORE[data2.GRADE=='sen']))"
   ]
  },
  {
   "cell_type": "code",
   "execution_count": null,
   "metadata": {},
   "outputs": [],
   "source": [
    "print(spt.f_oneway(data2.SCORE[data2.GRADE=='fre'],data2.SCORE[data2.GRADE=='sop'],\n",
    "             data2.SCORE[data2.GRADE=='jun'],data2.SCORE[data2.GRADE=='sen']),'\\n')\n",
    "\n",
    "model2=ols('SCORE ~ C(GRADE)',data=data2).fit()\n",
    "anova_lm(model2)"
   ]
  },
  {
   "cell_type": "code",
   "execution_count": null,
   "metadata": {},
   "outputs": [],
   "source": [
    "print(spt.shapiro(data2.SCORE[data2.CLASS=='A']),'\\n')\n",
    "print(spt.shapiro(data2.SCORE[data2.CLASS=='B']),'\\n')\n",
    "print(spt.shapiro(data2.SCORE[data2.CLASS=='C']),'\\n')\n",
    "print(spt.shapiro(data2.SCORE[data2.CLASS=='D']),'\\n')\n",
    "\n",
    "print(spt.levene(data2.SCORE[data2.CLASS=='A'],data2.SCORE[data2.CLASS=='B'],\n",
    "                 data2.SCORE[data2.CLASS=='C'],data2.SCORE[data2.CLASS=='D']),'\\n')\n",
    "\n",
    "print(spt.bartlett(data2.SCORE[data2.CLASS=='A'],data2.SCORE[data2.CLASS=='B'],\n",
    "                   data2.SCORE[data2.CLASS=='C'],data2.SCORE[data2.CLASS=='D']))"
   ]
  },
  {
   "cell_type": "code",
   "execution_count": null,
   "metadata": {},
   "outputs": [],
   "source": [
    "print(spt.f_oneway(data2.SCORE[data2.CLASS=='A'],data2.SCORE[data2.CLASS=='B'],\n",
    "             data2.SCORE[data2.CLASS=='C'],data2.SCORE[data2.CLASS=='D']),'\\n')\n",
    "\n",
    "model3=ols('SCORE ~ C(CLASS)',data=data2).fit()\n",
    "anova_lm(model3)"
   ]
  },
  {
   "cell_type": "code",
   "execution_count": null,
   "metadata": {
    "scrolled": true
   },
   "outputs": [],
   "source": [
    "model4=ols('SCORE ~ C(GRADE)*C(CLASS)',data=data2).fit()\n",
    "anova_lm(model4)"
   ]
  },
  {
   "cell_type": "code",
   "execution_count": null,
   "metadata": {
    "scrolled": false
   },
   "outputs": [],
   "source": [
    "from statsmodels.sandbox.stats.multicomp import MultiComparison\n",
    "from statsmodels.stats.multicomp import pairwise_tukeyhsd\n",
    "\n",
    "comp = MultiComparison(data2.SCORE, data2.CLASS)\n",
    "\n",
    "\n",
    "# Bonferroni\n",
    "opt = comp.allpairtest(spt.ttest_ind, method='bonf')\n",
    "print(opt[0])\n",
    "\n",
    "# Tukey's HSD\n",
    "hsd = pairwise_tukeyhsd(data2['SCORE'], data2['CLASS'], alpha=0.05)\n",
    "hsd.summary()"
   ]
  },
  {
   "cell_type": "code",
   "execution_count": null,
   "metadata": {
    "scrolled": true
   },
   "outputs": [],
   "source": [
    "data1=pd.read_csv('data_miles.csv',dtype={'fuel':'object'})\n",
    "\n",
    "model1=ols('miles ~ C(fuel)*C(pad)',data=data1).fit()\n",
    "anova_lm(model1)"
   ]
  },
  {
   "cell_type": "code",
   "execution_count": null,
   "metadata": {
    "scrolled": true
   },
   "outputs": [],
   "source": [
    "model11=ols('miles ~ C(fuel)+C(pad)',data=data1).fit()\n",
    "anova_lm(model11)"
   ]
  },
  {
   "cell_type": "code",
   "execution_count": null,
   "metadata": {
    "scrolled": true
   },
   "outputs": [],
   "source": [
    "comp2 = MultiComparison(data1['miles'], data1['pad'])\n",
    "\n",
    "\n",
    "# Bonferroni\n",
    "opt2 = comp2.allpairtest(spt.ttest_ind, method='bonf')\n",
    "print(opt2[0])\n",
    "\n",
    "# Tukey's HSD\n",
    "hsd2 = pairwise_tukeyhsd(data1['miles'], data1['pad'], alpha=0.05)\n",
    "hsd2.summary()"
   ]
  },
  {
   "cell_type": "code",
   "execution_count": null,
   "metadata": {},
   "outputs": [],
   "source": [
    "import rpy2.robjects as robjs\n",
    "from rpy2.robjects import r\n",
    "%load_ext rpy2.ipython\n",
    "# 변수 이동\n",
    "%Rpush data1"
   ]
  },
  {
   "cell_type": "code",
   "execution_count": null,
   "metadata": {
    "scrolled": false
   },
   "outputs": [],
   "source": [
    "print(r('aov_mdl <- aov(data1$miles ~ as.factor(data1$pad),data=data1)'))"
   ]
  },
  {
   "cell_type": "code",
   "execution_count": null,
   "metadata": {
    "scrolled": false
   },
   "outputs": [],
   "source": [
    "robjs.packages.importr('agricolae')\n",
    "print(r('duncan.test(aov_mdl, \"as.factor(data1$pad)\", alpha = 0.05, console = TRUE)'))"
   ]
  },
  {
   "cell_type": "code",
   "execution_count": null,
   "metadata": {
    "scrolled": true
   },
   "outputs": [],
   "source": [
    "homd=pd.read_csv('hom_ind.csv',dtype={'QUALITY' : 'object'})\n",
    "homd.info()"
   ]
  },
  {
   "cell_type": "code",
   "execution_count": null,
   "metadata": {},
   "outputs": [],
   "source": [
    "print(spt.chi2_contingency([homd.COUNTS[homd.QUALITY=='1'],homd.COUNTS[homd.QUALITY=='2'],\n",
    "                           homd.COUNTS[homd.QUALITY=='3'],homd.COUNTS[homd.QUALITY=='4'],homd.COUNTS[homd.QUALITY=='5']]))"
   ]
  },
  {
   "cell_type": "code",
   "execution_count": null,
   "metadata": {},
   "outputs": [],
   "source": [
    "ss=np.array([[homd.COUNTS[0:5]],[homd.COUNTS[5:10]],[homd.COUNTS[10:15]],[homd.COUNTS[15:20]]])\n",
    "print(ss)"
   ]
  },
  {
   "cell_type": "code",
   "execution_count": null,
   "metadata": {},
   "outputs": [],
   "source": [
    "t_chi2=0\n",
    "for i in range(4):\n",
    "    for j in range(5):\n",
    "        O = ss[i][0][j]\n",
    "        E = (ss[i][0][0]+ss[i][0][1]+ss[i][0][2]+ss[i][0][3]+ss[i][0][4])*(ss[0][0][j]+ss[1][0][j]+ss[2][0][j]+ss[3][0][j]) / 400\n",
    "        t_chi2 += (O-E)**2/E\n",
    "print(t_chi2)"
   ]
  },
  {
   "cell_type": "code",
   "execution_count": null,
   "metadata": {},
   "outputs": [],
   "source": [
    "p_val = 1 - spt.chi2.cdf(t_chi2, 12)\n",
    "print(p_val)"
   ]
  }
 ],
 "metadata": {
  "kernelspec": {
   "display_name": "Python 3",
   "language": "python",
   "name": "python3"
  },
  "language_info": {
   "codemirror_mode": {
    "name": "ipython",
    "version": 3
   },
   "file_extension": ".py",
   "mimetype": "text/x-python",
   "name": "python",
   "nbconvert_exporter": "python",
   "pygments_lexer": "ipython3",
   "version": "3.8.2"
  }
 },
 "nbformat": 4,
 "nbformat_minor": 4
}
