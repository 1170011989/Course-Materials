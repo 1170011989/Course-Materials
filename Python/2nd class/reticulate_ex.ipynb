import pandas as pd
import numpy as np

# R에서 reticulate 패키지를 로드하였다면 r.{VAR} 로 접근할 수 있다.

# 만약 R에서의 dataframe structure인 'mydata1'을 가져온다고 한다면,

data=r.mydata1
print(data)

# 위와 같은 방법으로 확인 가능하다.

# R에서 python 구동을 하기 위한 명령어로는 repl_python() 이 있다. 반대로 python에서의 구동을 원한다면 rpy2 module을 import하여 사용하면 된다.
