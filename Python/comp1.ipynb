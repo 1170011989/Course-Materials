{
 "cells": [
  {
   "cell_type": "code",
   "execution_count": null,
   "id": "ae0666ca",
   "metadata": {},
   "outputs": [],
   "source": [
    "import pandas as pd \n",
    "from sklearn.datasets import load_boston \n",
    "\n",
    "df_load = load_boston()\n",
    "\n",
    "df = pd.DataFrame( df_load.data, columns = df_load.feature_names)\n",
    "df['Target'] = df_load.target\n",
    "fdf = df[['CRIM', 'NOX', 'RAD', 'PTRATIO', 'Target']]\n",
    "\n",
    "fdf.head()"
   ]
  },
  {
   "cell_type": "code",
   "execution_count": null,
   "id": "fc501630",
   "metadata": {},
   "outputs": [],
   "source": [
    "from sklearn.model_selection import train_test_split\n",
    "X_train, X_test, Y_train, Y_test = train_test_split(fdf.drop('Target', axis=1), fdf['Target'],  test_size=0.25, random_state=1636)"
   ]
  },
  {
   "cell_type": "code",
   "execution_count": null,
   "id": "3851fc5c",
   "metadata": {},
   "outputs": [],
   "source": [
    "from sklearn.linear_model import LinearRegression\n",
    "lr = LinearRegression()\n",
    "lr.fit(X_train,Y_train)\n",
    "sc=lr.score(X_train,Y_train)\n",
    "coef=lr.coef_\n",
    "pred=lr.predict(X_test)\n",
    "print('The score is \\t',sc,'.\\n\\nThe coefficients are \\t',coef,'.\\n\\nPrinted output\\n',pred)"
   ]
  },
  {
   "cell_type": "code",
   "execution_count": null,
   "id": "86903446",
   "metadata": {},
   "outputs": [],
   "source": [
    "import statsmodels.api as sm \n",
    "\n",
    "X_train2 = sm.add_constant(X_train)\n",
    "lr2 = sm.OLS(Y_train, X_train2)\n",
    "result = lr2.fit()\n",
    "result.summary()"
   ]
  },
  {
   "cell_type": "code",
   "execution_count": null,
   "id": "b458af9e",
   "metadata": {},
   "outputs": [],
   "source": [
    "X_test2 = sm.add_constant(X_test)\n",
    "result.predict(X_test2)"
   ]
  }
 ],
 "metadata": {
  "kernelspec": {
   "display_name": "Python 3 (ipykernel)",
   "language": "python",
   "name": "python3"
  },
  "language_info": {
   "codemirror_mode": {
    "name": "ipython",
    "version": 3
   },
   "file_extension": ".py",
   "mimetype": "text/x-python",
   "name": "python",
   "nbconvert_exporter": "python",
   "pygments_lexer": "ipython3",
   "version": "3.9.6"
  }
 },
 "nbformat": 4,
 "nbformat_minor": 5
}
