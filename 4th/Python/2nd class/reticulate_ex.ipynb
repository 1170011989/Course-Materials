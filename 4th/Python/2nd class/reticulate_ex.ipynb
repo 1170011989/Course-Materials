{
 "cells": [
  {
   "cell_type": "code",
   "execution_count": null,
   "metadata": {},
   "outputs": [],
   "source": [
    "import pandas as pd\n",
    "import numpy as np\n",
    "\n",
    "# R에서 reticulate 패키지를 로드하였다면 r.{VAR} 로 접근할 수 있다.\n",
    "\n",
    "# 만약 R에서의 dataframe structure인 'mydata1'을 가져온다고 한다면,\n",
    "\n",
    "data=r.mydata1\n",
    "print(data)\n",
    "\n",
    "# 위와 같은 방법으로 확인 가능하다.\n",
    "\n",
    "# R에서 python 구동을 하기 위한 명령어로는 repl_python() 이 있다. 반대로 python에서의 구동을 원한다면 rpy2 module을 import하여 사용하면 된다."
   ]
  }
 ],
 "metadata": {
  "kernelspec": {
   "display_name": "Python 3",
   "language": "python",
   "name": "python3"
  },
  "language_info": {
   "codemirror_mode": {
    "name": "ipython",
    "version": 3
   },
   "file_extension": ".py",
   "mimetype": "text/x-python",
   "name": "python",
   "nbconvert_exporter": "python",
   "pygments_lexer": "ipython3",
   "version": "3.8.2"
  }
 },
 "nbformat": 4,
 "nbformat_minor": 4
}
