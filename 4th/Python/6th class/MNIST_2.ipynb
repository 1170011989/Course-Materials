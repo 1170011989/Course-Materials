{
 "cells": [
  {
   "cell_type": "code",
   "execution_count": 1,
   "metadata": {},
   "outputs": [
    {
     "name": "stdout",
     "output_type": "stream",
     "text": [
      "New image is : 5\n"
     ]
    },
    {
     "data": {
      "image/png": "[encoded data removed]",
      "text/plain": [
       "<Figure size 432x288 with 1 Axes>"
      ]
     },
     "metadata": {
      "needs_background": "light"
     },
     "output_type": "display_data"
    }
   ],
   "source": [
    "# prediction phase\n",
    "import numpy as np\n",
    "import matplotlib.pyplot as plt\n",
    "import matplotlib.image as img\n",
    "def sigmoid(x):\n",
    "\treturn 1/(1+np.exp(-x))\n",
    "data = np.load('learningdata.npz')\n",
    "w = data['w'];v = data['v'];\n",
    "newdata = img.imread(\"test.png\")\n",
    "newdata = 1-newdata[:,:,0]\n",
    "plt.imshow(newdata)\n",
    "newX = np.ones([785,1]);\n",
    "for i in range(0,28):\n",
    "    newX[i*28+1:(i+1)*28+1,0] = newdata[i,:]\n",
    "z = np.ones([31,1])\n",
    "z[1:,:] = sigmoid(np.dot(w,newX))\n",
    "y = sigmoid(np.dot(v,z))\n",
    "predict_value=np.argmax(y)\n",
    "print('New image is : %d'%(predict_value))"
   ]
  }
 ],
 "metadata": {
  "kernelspec": {
   "display_name": "Python 3",
   "language": "python",
   "name": "python3"
  },
  "language_info": {
   "codemirror_mode": {
    "name": "ipython",
    "version": 3
   },
   "file_extension": ".py",
   "mimetype": "text/x-python",
   "name": "python",
   "nbconvert_exporter": "python",
   "pygments_lexer": "ipython3",
   "version": "3.8.2"
  }
 },
 "nbformat": 4,
 "nbformat_minor": 4
}
