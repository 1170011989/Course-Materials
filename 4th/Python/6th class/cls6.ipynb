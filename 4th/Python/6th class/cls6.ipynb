{
 "cells": [
  {
   "cell_type": "code",
   "execution_count": null,
   "metadata": {},
   "outputs": [],
   "source": [
    "import numpy as np\n",
    "import pandas as pd\n",
    "import statsmodels.api as sm\n",
    "import statsmodels.formula.api as smf"
   ]
  },
  {
   "cell_type": "code",
   "execution_count": null,
   "metadata": {
    "scrolled": true
   },
   "outputs": [],
   "source": [
    "data1=pd.read_csv('temperature1.csv')\n",
    "data1.info()"
   ]
  },
  {
   "cell_type": "code",
   "execution_count": null,
   "metadata": {},
   "outputs": [],
   "source": [
    "model1=smf.ols('Y ~ X1*X2',data=data1)\n",
    "reg1=model1.fit()\n",
    "print(reg1.summary())"
   ]
  },
  {
   "cell_type": "code",
   "execution_count": null,
   "metadata": {
    "scrolled": false
   },
   "outputs": [],
   "source": [
    "model2=smf.ols('Y ~ X1 + X2',data=data1)\n",
    "reg2=model2.fit()\n",
    "print(reg2.summary())"
   ]
  },
  {
   "cell_type": "code",
   "execution_count": null,
   "metadata": {},
   "outputs": [],
   "source": [
    "model3=smf.ols('Y ~ 1 + X1 + X2',data=data1)\n",
    "reg3=model3.fit()\n",
    "print(reg3.summary())"
   ]
  },
  {
   "cell_type": "code",
   "execution_count": null,
   "metadata": {},
   "outputs": [],
   "source": [
    "import matplotlib.pyplot as plt\n",
    "fig = plt.figure()\n",
    "ax1 = fig.add_subplot(1, 2, 1)\n",
    "ax2 = fig.add_subplot(1, 2, 2)\n",
    "ax1.scatter(data1['Y'],data1['X1'])\n",
    "ax1.axis('equal')\n",
    "ax2.scatter(data1['Y'],data1['X2'])\n",
    "ax2.axis('equal')\n",
    "plt.show()"
   ]
  },
  {
   "cell_type": "code",
   "execution_count": null,
   "metadata": {
    "scrolled": true
   },
   "outputs": [],
   "source": [
    "reg2.resid.plot(style='o')\n",
    "print(reg2.resid.sum())\n",
    "plt.show()\n",
    "print(pd.concat([reg2.fittedvalues,reg2.resid],axis=1))"
   ]
  },
  {
   "cell_type": "code",
   "execution_count": null,
   "metadata": {},
   "outputs": [],
   "source": [
    "import seaborn as sb\n",
    "ftd=reg2.predict(data1)\n",
    "res=data1['Y']-ftd\n",
    "print(pd.concat([ftd,res],axis=1))\n",
    "sb.regplot(x=ftd, y=res, lowess=True, line_kws={'color': 'green'})\n",
    "plt.plot([ftd.min(), ftd.max()], [0, 0], '--', color='black')\n",
    "plt.show()"
   ]
  },
  {
   "cell_type": "code",
   "execution_count": null,
   "metadata": {},
   "outputs": [],
   "source": [
    "plt.plot(ftd,res,'bo')\n",
    "plt.show()"
   ]
  },
  {
   "cell_type": "code",
   "execution_count": null,
   "metadata": {},
   "outputs": [],
   "source": [
    "poly2=smf.ols('Y ~ 1 + X1 + X2 + I(X2**2)',data=data1).fit()\n",
    "print(poly2.summary())"
   ]
  },
  {
   "cell_type": "code",
   "execution_count": null,
   "metadata": {},
   "outputs": [],
   "source": [
    "poly3=smf.ols('Y ~ 1 + X1 + X2 + I(X2**3)',data=data1).fit()\n",
    "print(poly3.summary())"
   ]
  },
  {
   "cell_type": "code",
   "execution_count": null,
   "metadata": {},
   "outputs": [],
   "source": [
    "# Referred from https://docs.scipy.org/doc/scipy/reference/generated/scipy.stats.ranksums.html\n",
    "from scipy.stats import ranksums\n",
    "rng = np.random.default_rng()\n",
    "sample1 = rng.uniform(-1, 1, 200)\n",
    "sample2 = rng.uniform(-0.5, 1.5, 300)\n",
    "print(ranksums(sample1, sample2))"
   ]
  },
  {
   "cell_type": "code",
   "execution_count": null,
   "metadata": {},
   "outputs": [],
   "source": [
    "# Referred from https://docs.scipy.org/doc/scipy/reference/generated/scipy.stats.wilcoxon.html\n",
    "d = [6, 8, 14, 16, 23, 24, 28, 29, 41, -48, 49, 56, 60, -67, 75]\n",
    "from scipy.stats import wilcoxon\n",
    "w, p = wilcoxon(d)\n",
    "print(w,p)"
   ]
  },
  {
   "cell_type": "code",
   "execution_count": null,
   "metadata": {},
   "outputs": [],
   "source": [
    "w, p = wilcoxon(d, mode='approx')\n",
    "print(w,p)"
   ]
  },
  {
   "cell_type": "code",
   "execution_count": null,
   "metadata": {},
   "outputs": [],
   "source": [
    "# Referred from https://docs.scipy.org/doc/scipy/reference/generated/scipy.stats.kruskal.html\n",
    "from scipy.stats import kruskal\n",
    "x = [1, 3, 5, 7, 9]\n",
    "y = [2, 4, 6, 8, 10]\n",
    "print(kruskal(x, y))"
   ]
  },
  {
   "cell_type": "code",
   "execution_count": null,
   "metadata": {},
   "outputs": [],
   "source": [
    "x = [1, 1, 1]\n",
    "y = [2, 2, 2]\n",
    "z = [2, 2]\n",
    "print(kruskal(x,y,z))"
   ]
  },
  {
   "cell_type": "code",
   "execution_count": null,
   "metadata": {},
   "outputs": [],
   "source": [
    "# Referred from https://docs.scipy.org/doc/scipy/reference/generated/scipy.stats.friedmanchisquare.html\n",
    "from scipy.stats import friedmanchisquare\n",
    "g1 = [4, 6, 3, 4, 3, 2, 2, 7, 6, 5]\n",
    "g2 = [5, 6, 8, 7, 7, 8, 4, 6, 4, 5]\n",
    "g3 = [2, 4, 4, 3, 2, 2, 1, 4, 3, 2]\n",
    "\n",
    "print(friedmanchisquare(g1,g2,g3))"
   ]
  }
 ],
 "metadata": {
  "kernelspec": {
   "display_name": "Python 3",
   "language": "python",
   "name": "python3"
  },
  "language_info": {
   "codemirror_mode": {
    "name": "ipython",
    "version": 3
   },
   "file_extension": ".py",
   "mimetype": "text/x-python",
   "name": "python",
   "nbconvert_exporter": "python",
   "pygments_lexer": "ipython3",
   "version": "3.8.2"
  }
 },
 "nbformat": 4,
 "nbformat_minor": 4
}
