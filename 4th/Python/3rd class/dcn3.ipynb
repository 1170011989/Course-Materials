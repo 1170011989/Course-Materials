{
 "cells": [
  {
   "cell_type": "code",
   "execution_count": null,
   "metadata": {},
   "outputs": [],
   "source": [
    "import scipy.stats as spt\n",
    "import numpy as np\n",
    "import pandas as pd\n",
    "import matplotlib.pyplot as plt\n",
    "\n",
    "# Binomial distribution\n",
    "\n",
    "fig, ax = plt.subplots(1, 1)\n",
    "n=70; p=0.4;\n",
    "m,var,skw,kur=spt.binom.stats(n,p,moments='mvsk')\n",
    "print(m,var,skw,kur)\n",
    "x = np.arange(spt.binom.ppf(0.01, n, p),spt.binom.ppf(0.99, n, p))\n",
    "ax.plot(x, spt.binom.pmf(x, n, p), 'ro', ms=8, label='binomial pmf')\n",
    "ax.vlines(x, 0, spt.binom.pmf(x, n, p), colors='g', lw=5, alpha=0.3)\n",
    "plt.show()\n",
    "rv=spt.binom.rvs(n,p,size=10)\n",
    "print('random variable\\t',rv)"
   ]
  },
  {
   "cell_type": "code",
   "execution_count": null,
   "metadata": {},
   "outputs": [],
   "source": [
    "# Poisson distribution\n",
    "\n",
    "fig, ax = plt.subplots(1, 1)\n",
    "mu = 0.6\n",
    "m,var,skw,kur = spt.poisson.stats(mu,moments='mvsk')\n",
    "print(m,var,skw,kur)\n",
    "x = np.arange(spt.poisson.ppf(0.01, mu),spt.poisson.ppf(0.99, mu))\n",
    "ax.plot(x, spt.poisson.pmf(x, mu), 'ro', ms=8, label='poisson pmf')\n",
    "ax.vlines(x, 0, spt.poisson.pmf(x, mu), colors='g', lw=5, alpha=0.3)\n",
    "plt.show()\n",
    "rv=spt.poisson.rvs(mu,size=10)\n",
    "print('random variable\\t',rv)"
   ]
  },
  {
   "cell_type": "code",
   "execution_count": null,
   "metadata": {},
   "outputs": [],
   "source": [
    "# Uniform distribution\n",
    "\n",
    "fig, ax = plt.subplots(1, 1)\n",
    "m, var, skw, kur = spt.uniform.stats(moments='mvsk')\n",
    "print(m,var,skw,kur)\n",
    "x = np.linspace(spt.uniform.ppf(0.01),spt.uniform.ppf(0.99), 100)\n",
    "ax.plot(x, spt.uniform.pdf(x), 'r-', lw=5, alpha=0.6, label='uniform pdf')\n",
    "rv = spt.uniform.rvs(size=100)\n",
    "ax.hist(rv, density=True, histtype='stepfilled', alpha=0.2)\n",
    "plt.show()"
   ]
  },
  {
   "cell_type": "code",
   "execution_count": null,
   "metadata": {},
   "outputs": [],
   "source": [
    "fig, ax = plt.subplots(1, 1)\n",
    "m, var, skw, kur = spt.expon.stats(moments='mvsk')\n",
    "print(m,var,skw,kur)\n",
    "x = np.linspace(spt.expon.ppf(0.01),spt.expon.ppf(0.99), 100)\n",
    "ax.plot(x, spt.expon.pdf(x),'r-', lw=5, alpha=0.6, label='exponential pdf')\n",
    "rv = spt.expon.rvs(size=300)\n",
    "ax.hist(rv, density=True, histtype='stepfilled', alpha=0.2)\n",
    "plt.show()"
   ]
  },
  {
   "cell_type": "code",
   "execution_count": null,
   "metadata": {},
   "outputs": [],
   "source": [
    "# Normal distribution\n",
    "\n",
    "fig, ax = plt.subplots(1, 1)\n",
    "m, var, skw, kur = spt.norm.stats(loc=5,scale=2,moments='mvsk')\n",
    "print(m,var,skw,kur)\n",
    "x = np.linspace(spt.norm.ppf(0.01,loc=5,scale=2),spt.norm.ppf(0.99,loc=5,scale=2), 1000)\n",
    "ax.plot(x, spt.norm.pdf(x,loc=5,scale=2),'r-', lw=5, alpha=0.6, label='normal pdf')\n",
    "rv = spt.norm.rvs(loc=5,scale=2,size=3000)\n",
    "ax.hist(rv, density=True, histtype='stepfilled', alpha=0.2)\n",
    "plt.show()"
   ]
  },
  {
   "cell_type": "code",
   "execution_count": null,
   "metadata": {},
   "outputs": [],
   "source": [
    "# Chi-squared distribution\n",
    "\n",
    "fig, ax = plt.subplots(1, 1)\n",
    "df = 5\n",
    "m, var, skw, kur = spt.chi2.stats(df, moments='mvsk')\n",
    "print(m,var,skw,kur)\n",
    "x = np.linspace(spt.chi2.ppf(0.01, df),spt.chi2.ppf(0.99, df), 1000)\n",
    "ax.plot(x, spt.chi2.pdf(x, df),'r-', lw=5, alpha=0.6, label='chi-squared pdf')\n",
    "rv = spt.chi2.rvs(df, size=10000)\n",
    "ax.hist(rv, density=True, histtype='stepfilled', alpha=0.2)\n",
    "plt.show()"
   ]
  },
  {
   "cell_type": "code",
   "execution_count": null,
   "metadata": {},
   "outputs": [],
   "source": [
    "# student's t distribution\n",
    "\n",
    "fig, ax = plt.subplots(1, 1)\n",
    "df = 3\n",
    "m, var, skw, kur = spt.t.stats(df, moments='mvsk')\n",
    "print(m,var,skw,kur)\n",
    "x = np.linspace(spt.t.ppf(0.01, df),spt.t.ppf(0.99, df), 100)\n",
    "ax.plot(x, spt.t.pdf(x, df),'r-', lw=5, alpha=0.6, label='student''s t pdf')\n",
    "rv = spt.t.rvs(df, size=3000)\n",
    "ax.hist(rv, density=True, histtype='stepfilled', alpha=0.2)\n",
    "plt.show()"
   ]
  },
  {
   "cell_type": "code",
   "execution_count": null,
   "metadata": {},
   "outputs": [],
   "source": [
    "# F distribution\n",
    "\n",
    "fig, ax = plt.subplots(1, 1)\n",
    "dfn, dfd = 29, 18\n",
    "m, var, skw, kur = spt.f.stats(dfn, dfd, moments='mvsk')\n",
    "print(m,var,skw,kur)\n",
    "x = np.linspace(spt.f.ppf(0.01, dfn, dfd),spt.f.ppf(0.99, dfn, dfd), 100)\n",
    "ax.plot(x, spt.f.pdf(x, dfn, dfd),'r-', lw=5, alpha=0.6, label='F pdf')\n",
    "rv = spt.f.rvs(dfn, dfd, size=2000)\n",
    "ax.hist(rv, density=True, histtype='stepfilled', alpha=0.2)\n",
    "plt.show()"
   ]
  },
  {
   "cell_type": "code",
   "execution_count": null,
   "metadata": {},
   "outputs": [],
   "source": [
    "# 단일 모집단 검정\n",
    "import rpy2.robjects as robjs\n",
    "\n",
    "rng = np.random.default_rng()\n",
    "rvs = spt.norm.rvs(loc=5, scale=10, size=(50, 1), random_state=rng)\n",
    "ss=spt.ttest_1samp(rvs, 5.0)\n",
    "print(ss)\n",
    "print(spt.ttest_1samp(rvs, 0.0))\n",
    "\n",
    "robjs.r['load'](\"class3.RData\")\n",
    "ex1=robjs.r['exa10_9']\n",
    "\n",
    "tt=spt.ttest_1samp(ex1,np.mean(ex1))"
   ]
  },
  {
   "cell_type": "code",
   "execution_count": null,
   "metadata": {},
   "outputs": [],
   "source": [
    "# 카이제곱 검정 (적합도)\n",
    "\n",
    "print(spt.chisquare([16, 18, 16, 14, 12, 12]))\n",
    "\n",
    "print(spt.chisquare([16, 18, 16, 14, 12, 12], f_exp=[16, 16, 16, 16, 16, 8]))\n",
    "\n",
    "print(spt.chisquare([16, 18, 16, 14, 12, 12], ddof=[0,1,2]))\n",
    "\n",
    "obs=np.array([31,26,22,18,13,10])\n",
    "print(spt.chisquare(obs))\n",
    "\n",
    "# 교차분석\n",
    "\n",
    "ss=robjs.r['exa12_5']\n",
    "print(ss)\n",
    "\n",
    "ch2,pval,df,evl=spt.chi2_contingency(observed=ss)\n",
    "\n",
    "print('chi2 value is ',ch2,'\\np-value is ',pval,'\\ndegree of freedom is ',df,'\\nexpected values are \\n',evl)"
   ]
  },
  {
   "cell_type": "code",
   "execution_count": null,
   "metadata": {},
   "outputs": [],
   "source": [
    "# One way ANOVA\n",
    "\n",
    "np.random.seed(5)\n",
    "\n",
    "grp1=np.random.normal(3,4,30)\n",
    "grp2=np.random.normal(3.1,4.1,30)\n",
    "grp3=np.random.normal(2.84,4.3,30)\n",
    "\n",
    "grp=[grp1,grp2,grp3]\n",
    "\n",
    "import seaborn as sb\n",
    "\n",
    "sb.kdeplot(grp1)\n",
    "sb.kdeplot(grp2)\n",
    "sb.kdeplot(grp3)\n",
    "plt.show()\n",
    "\n",
    "sb.boxplot(data=grp)\n",
    "plt.show()\n",
    "\n",
    "print(spt.f_oneway(grp1,grp2,grp3))\n",
    "F_stat,pval=spt.f_oneway(*grp)\n",
    "\n",
    "ttt=robjs.r['exa13_6']\n",
    "\n",
    "print(spt.f_oneway(ttt[0],ttt[1],ttt[2]))"
   ]
  }
 ],
 "metadata": {
  "kernelspec": {
   "display_name": "Python 3",
   "language": "python",
   "name": "python3"
  },
  "language_info": {
   "codemirror_mode": {
    "name": "ipython",
    "version": 3
   },
   "file_extension": ".py",
   "mimetype": "text/x-python",
   "name": "python",
   "nbconvert_exporter": "python",
   "pygments_lexer": "ipython3",
   "version": "3.8.2"
  }
 },
 "nbformat": 4,
 "nbformat_minor": 4
}
