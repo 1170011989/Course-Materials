{
 "cells": [
  {
   "cell_type": "code",
   "execution_count": null,
   "metadata": {},
   "outputs": [],
   "source": [
    "# Referred from https://www.statsmodels.org/stable/examples/notebooks/generated\n",
    "%matplotlib inline\n",
    "import matplotlib.pyplot as plt\n",
    "import pandas as pd\n",
    "import pandas_datareader as pdr\n",
    "import seaborn as sns\n",
    "from statsmodels.tsa.api import acf, graphics, pacf\n",
    "from statsmodels.tsa.ar_model import AutoReg, ar_select_order"
   ]
  },
  {
   "cell_type": "code",
   "execution_count": null,
   "metadata": {},
   "outputs": [],
   "source": [
    "sns.set_style(\"darkgrid\")\n",
    "pd.plotting.register_matplotlib_converters()\n",
    "# Default figure size\n",
    "sns.mpl.rc(\"figure\", figsize=(16, 6))\n",
    "sns.mpl.rc(\"font\", size=14)"
   ]
  },
  {
   "cell_type": "code",
   "execution_count": null,
   "metadata": {},
   "outputs": [],
   "source": [
    "data = pdr.get_data_fred(\"HOUSTNSA\", \"1959-01-01\", \"2019-06-01\")\n",
    "housing = data.HOUSTNSA.pct_change().dropna()\n",
    "# Scale by 100 to get percentages\n",
    "housing = 100 * housing.asfreq(\"MS\")\n",
    "fig, ax = plt.subplots()\n",
    "ax = housing.plot(ax=ax)"
   ]
  },
  {
   "cell_type": "code",
   "execution_count": null,
   "metadata": {},
   "outputs": [],
   "source": [
    "mod = AutoReg(housing, 3, old_names=False)\n",
    "res = mod.fit()\n",
    "print(res.summary())"
   ]
  },
  {
   "cell_type": "code",
   "execution_count": null,
   "metadata": {},
   "outputs": [],
   "source": [
    "res = mod.fit(cov_type=\"HC0\")\n",
    "print(res.summary())"
   ]
  },
  {
   "cell_type": "code",
   "execution_count": null,
   "metadata": {},
   "outputs": [],
   "source": [
    "sel = ar_select_order(housing, 13, old_names=False)\n",
    "sel.ar_lags\n",
    "res = sel.model.fit()\n",
    "print(res.summary())"
   ]
  },
  {
   "cell_type": "code",
   "execution_count": null,
   "metadata": {},
   "outputs": [],
   "source": [
    "fig = res.plot_predict(720, 840)"
   ]
  },
  {
   "cell_type": "code",
   "execution_count": null,
   "metadata": {},
   "outputs": [],
   "source": [
    "fig = plt.figure(figsize=(16, 9))\n",
    "fig = res.plot_diagnostics(fig=fig, lags=30)"
   ]
  },
  {
   "cell_type": "code",
   "execution_count": null,
   "metadata": {},
   "outputs": [],
   "source": [
    "sel = ar_select_order(housing, 13, seasonal=True, old_names=False)\n",
    "sel.ar_lags\n",
    "res = sel.model.fit()\n",
    "print(res.summary())"
   ]
  },
  {
   "cell_type": "code",
   "execution_count": null,
   "metadata": {},
   "outputs": [],
   "source": [
    "fig = res.plot_predict(720, 840)"
   ]
  },
  {
   "cell_type": "code",
   "execution_count": null,
   "metadata": {},
   "outputs": [],
   "source": [
    "fig = plt.figure(figsize=(16, 9))\n",
    "fig = res.plot_diagnostics(lags=30, fig=fig)"
   ]
  },
  {
   "cell_type": "code",
   "execution_count": null,
   "metadata": {},
   "outputs": [],
   "source": [
    "yoy_housing = data.HOUSTNSA.pct_change(12).resample(\"MS\").last().dropna()\n",
    "_, ax = plt.subplots()\n",
    "ax = yoy_housing.plot(ax=ax)"
   ]
  },
  {
   "cell_type": "code",
   "execution_count": null,
   "metadata": {},
   "outputs": [],
   "source": [
    "sel = ar_select_order(yoy_housing, 13, old_names=False)\n",
    "sel.ar_lags"
   ]
  },
  {
   "cell_type": "code",
   "execution_count": null,
   "metadata": {},
   "outputs": [],
   "source": [
    "sel = ar_select_order(yoy_housing, 13, glob=True, old_names=False)\n",
    "sel.ar_lags\n",
    "res = sel.model.fit()\n",
    "print(res.summary())"
   ]
  },
  {
   "cell_type": "code",
   "execution_count": null,
   "metadata": {},
   "outputs": [],
   "source": [
    "fig = plt.figure(figsize=(16, 9))\n",
    "fig = res.plot_diagnostics(fig=fig, lags=30)"
   ]
  },
  {
   "cell_type": "code",
   "execution_count": null,
   "metadata": {},
   "outputs": [],
   "source": [
    "sel = ar_select_order(yoy_housing, 13, glob=True, seasonal=True, old_names=False)\n",
    "sel.ar_lags\n",
    "res = sel.model.fit()\n",
    "print(res.summary())"
   ]
  },
  {
   "cell_type": "code",
   "execution_count": null,
   "metadata": {},
   "outputs": [],
   "source": [
    "data = pdr.get_data_fred(\"INDPRO\", \"1959-01-01\", \"2019-06-01\")\n",
    "ind_prod = data.INDPRO.pct_change(12).dropna().asfreq(\"MS\")\n",
    "_, ax = plt.subplots(figsize=(16, 9))\n",
    "ind_prod.plot(ax=ax)"
   ]
  },
  {
   "cell_type": "code",
   "execution_count": null,
   "metadata": {},
   "outputs": [],
   "source": [
    "sel = ar_select_order(ind_prod, 13, \"bic\", old_names=False)\n",
    "res = sel.model.fit()\n",
    "print(res.summary())"
   ]
  },
  {
   "cell_type": "code",
   "execution_count": null,
   "metadata": {},
   "outputs": [],
   "source": [
    "sel = ar_select_order(ind_prod, 13, \"bic\", glob=True, old_names=False)\n",
    "sel.ar_lags\n",
    "res_glob = sel.model.fit()\n",
    "print(res.summary())"
   ]
  },
  {
   "cell_type": "code",
   "execution_count": null,
   "metadata": {},
   "outputs": [],
   "source": [
    "ind_prod.shape"
   ]
  },
  {
   "cell_type": "code",
   "execution_count": null,
   "metadata": {},
   "outputs": [],
   "source": [
    "fig = res_glob.plot_predict(start=714, end=732)"
   ]
  },
  {
   "cell_type": "code",
   "execution_count": null,
   "metadata": {},
   "outputs": [],
   "source": [
    "res_ar5 = AutoReg(ind_prod, 5, old_names=False).fit()\n",
    "predictions = pd.DataFrame(\n",
    "    {\n",
    "        \"AR(5)\": res_ar5.predict(start=714, end=726),\n",
    "        \"AR(13)\": res.predict(start=714, end=726),\n",
    "        \"Restr. AR(13)\": res_glob.predict(start=714, end=726),\n",
    "    }\n",
    ")\n",
    "_, ax = plt.subplots()\n",
    "ax = predictions.plot(ax=ax)"
   ]
  },
  {
   "cell_type": "code",
   "execution_count": null,
   "metadata": {},
   "outputs": [],
   "source": [
    "fig = plt.figure(figsize=(16, 9))\n",
    "fig = res_glob.plot_diagnostics(fig=fig, lags=30)"
   ]
  },
  {
   "cell_type": "code",
   "execution_count": null,
   "metadata": {},
   "outputs": [],
   "source": [
    "import numpy as np\n",
    "\n",
    "start = ind_prod.index[-24]\n",
    "forecast_index = pd.date_range(start, freq=ind_prod.index.freq, periods=36)\n",
    "cols = [\"-\".join(str(val) for val in (idx.year, idx.month)) for idx in forecast_index]\n",
    "forecasts = pd.DataFrame(index=forecast_index, columns=cols)\n",
    "for i in range(1, 24):\n",
    "    fcast = res_glob.predict(\n",
    "        start=forecast_index[i], end=forecast_index[i + 12], dynamic=True\n",
    "    )\n",
    "    forecasts.loc[fcast.index, cols[i]] = fcast\n",
    "_, ax = plt.subplots(figsize=(16, 10))\n",
    "ind_prod.iloc[-24:].plot(ax=ax, color=\"black\", linestyle=\"--\")\n",
    "ax = forecasts.plot(ax=ax)"
   ]
  },
  {
   "cell_type": "code",
   "execution_count": null,
   "metadata": {},
   "outputs": [],
   "source": [
    "from statsmodels.tsa.api import SARIMAX\n",
    "\n",
    "sarimax_mod = SARIMAX(ind_prod, order=((1, 5, 12, 13), 0, 0), trend=\"c\")\n",
    "sarimax_res = sarimax_mod.fit()\n",
    "print(sarimax_res.summary())"
   ]
  },
  {
   "cell_type": "code",
   "execution_count": null,
   "metadata": {},
   "outputs": [],
   "source": [
    "sarimax_params = sarimax_res.params.iloc[:-1].copy()\n",
    "sarimax_params.index = res_glob.params.index\n",
    "params = pd.concat([res_glob.params, sarimax_params], axis=1, sort=False)\n",
    "params.columns = [\"AutoReg\", \"SARIMAX\"]\n",
    "params"
   ]
  },
  {
   "cell_type": "code",
   "execution_count": null,
   "metadata": {},
   "outputs": [],
   "source": [
    "from statsmodels.tsa.deterministic import DeterministicProcess\n",
    "\n",
    "dp = DeterministicProcess(housing.index, constant=True, period=12, fourier=2)\n",
    "mod = AutoReg(housing, 2, trend=\"n\", seasonal=False, deterministic=dp)\n",
    "res = mod.fit()\n",
    "print(res.summary())"
   ]
  },
  {
   "cell_type": "code",
   "execution_count": null,
   "metadata": {},
   "outputs": [],
   "source": [
    "fig = res.plot_predict(720, 840)"
   ]
  }
 ],
 "metadata": {
  "kernelspec": {
   "display_name": "Python 3",
   "language": "python",
   "name": "python3"
  },
  "language_info": {
   "codemirror_mode": {
    "name": "ipython",
    "version": 3
   },
   "file_extension": ".py",
   "mimetype": "text/x-python",
   "name": "python",
   "nbconvert_exporter": "python",
   "pygments_lexer": "ipython3",
   "version": "3.8.2"
  }
 },
 "nbformat": 4,
 "nbformat_minor": 4
}
