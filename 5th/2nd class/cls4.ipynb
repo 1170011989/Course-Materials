{
 "cells": [
  {
   "cell_type": "code",
   "execution_count": null,
   "metadata": {},
   "outputs": [],
   "source": [
    "import scipy.stats as spt\n",
    "import numpy as np\n",
    "import pandas as pd\n",
    "import seaborn as sb\n",
    "import statsmodels.api as sm\n",
    "from statsmodels.formula.api import ols\n",
    "from statsmodels.stats.anova import anova_lm\n",
    "import statsmodels.stats.weightstats as sw\n",
    "import matplotlib.pyplot as plt\n",
    "\n"
   ]
  },
  {
   "cell_type": "code",
   "execution_count": null,
   "metadata": {
    "scrolled": true
   },
   "outputs": [],
   "source": [
    "# Two sample t test\n",
    "\n",
    "fres = np.array([3.7,4.3,2.5,3.3,3.6,3.1])\n",
    "soph = np.array([1.8,4.2,4.1,2.2,3.2,3.8])\n",
    "twosam = spt.ttest_ind(fres,soph)\n",
    "print(twosam)\n",
    "\n",
    "print('t statistic = %.3f, p-value = %.3f'%(twosam))\n",
    "\n",
    "\n",
    "print('1학년 :', np.mean(fres))\n",
    "print('2학년 :', np.mean(soph))"
   ]
  },
  {
   "cell_type": "code",
   "execution_count": null,
   "metadata": {
    "scrolled": true
   },
   "outputs": [],
   "source": [
    "# Dataframe\n",
    "\n",
    "data1=pd.DataFrame(data=np.array([[3.7,1.8,3.3,4.1],[4.3,4.2,3.7,3.8],[2.5,4.1,3.4,3.5],[3.3,2.2,3.9,3.2],[3.6,3.2,np.nan,2.3]]),\n",
    "                   columns=['fre','sop','jun','sen'])\n",
    "print(data1['jun'],'\\n')\n",
    "\n",
    "sop = data1['sop']\n",
    "jun = data1['jun']\n",
    "jun = jun.fillna(jun.mean())\n",
    "\n",
    "print(jun,'\\n')\n",
    "\n",
    "tsam = spt.ttest_ind(sop,jun)\n",
    "print(tsam)"
   ]
  },
  {
   "cell_type": "code",
   "execution_count": null,
   "metadata": {},
   "outputs": [],
   "source": [
    "# Paired t test\n",
    "\n",
    "before=np.array([68,61,60,68,67,64,66,67,66,67,72,74,61,71,58,77])\n",
    "after=np.array([56,55,67,62,59,67,50,60,59,53,60,65,62,61,64,57])\n",
    "\n",
    "pairsam = spt.ttest_rel(before,after)\n",
    "print(pairsam)"
   ]
  },
  {
   "cell_type": "code",
   "execution_count": null,
   "metadata": {
    "scrolled": true
   },
   "outputs": [],
   "source": [
    "# Statsmodels를 이용한 t test\n",
    "\n",
    "fre=data1['fre']\n",
    "sen=data1['sen']\n",
    "\n",
    "\n",
    "# 가설에는 two-sided / larger / smaller 3가지, 분산에는 pooled, unequal 2가지, value는 두 집단의 평균 차이가 얼마인지 나타내는 수\n",
    "tsams=sw.ttest_ind(fre,sen,alternative='two-sided',usevar='pooled',value=0)\n",
    "print('tstat = \\t',tsams[0],'\\np-val = \\t',tsams[1],'\\ndegree of freedom = \\t',tsams[2])\n",
    "\n",
    "\n",
    "\n",
    "# 쌍체검정 (One-sided)\n",
    "\n",
    "ptsams = sw.ttost_paired(before,after,0.1,0.2)\n",
    "print(ptsams)"
   ]
  },
  {
   "cell_type": "code",
   "execution_count": null,
   "metadata": {
    "scrolled": false
   },
   "outputs": [],
   "source": [
    "# Two-way ANOVA from statsmodels // Referred : https://www.statsmodels.org/stable/anova.html#module-statsmodels.stats.anova\n",
    "\n",
    "moore = sm.datasets.get_rdataset(\"Moore\", \"carData\", cache=True)\n",
    "\n",
    "data2 = moore.data\n",
    "\n",
    "data2 = data2.rename(columns={\"partner.status\":\"partner_status\"})\n",
    "\n",
    "moore_lm = ols('conformity ~ C(fcategory, Sum)*C(partner_status, Sum)',data=data2).fit()\n",
    "\n",
    "table = sm.stats.anova_lm(moore_lm, typ=2)\n",
    "\n",
    "print(table)"
   ]
  },
  {
   "cell_type": "code",
   "execution_count": null,
   "metadata": {},
   "outputs": [],
   "source": [
    "# Excel file read\n",
    "df = pd.read_csv('score1.csv')\n",
    "print(df)\n",
    "\n",
    "print(df.grade.unique())\n",
    "\n",
    "model = ols('score ~ C(grade)', df).fit()\n",
    "anova_lm(model)"
   ]
  },
  {
   "cell_type": "code",
   "execution_count": null,
   "metadata": {},
   "outputs": [],
   "source": [
    "# One-way에서 scipy.stats.f_oneway() 를 사용할 때의 결측치 제거\n",
    "\n",
    "# data[~np.isnan(data)]"
   ]
  },
  {
   "cell_type": "code",
   "execution_count": null,
   "metadata": {},
   "outputs": [],
   "source": [
    "# 오차의 가정 점검\n",
    "\n",
    "print(spt.shapiro(df.score[df.grade=='fre']),'\\n')\n",
    "\n",
    "print(spt.levene(df.score[df.grade=='fre'],df.score[df.grade=='sop'],df.score[df.grade=='jun'],df.score[df.grade=='sen']),'\\n')\n",
    "\n",
    "print(spt.bartlett(df.score[df.grade=='fre'],df.score[df.grade=='sop'],df.score[df.grade=='jun'],df.score[df.grade=='sen']))"
   ]
  },
  {
   "cell_type": "code",
   "execution_count": null,
   "metadata": {
    "scrolled": true
   },
   "outputs": [],
   "source": [
    "# 사후 검정\n",
    "\n",
    "from statsmodels.sandbox.stats.multicomp import MultiComparison\n",
    "from statsmodels.stats.multicomp import pairwise_tukeyhsd\n",
    "\n",
    "comp = MultiComparison(df.score, df.grade)\n",
    "\n",
    "\n",
    "# Bonferroni\n",
    "opt = comp.allpairtest(spt.ttest_ind, method='bonf')\n",
    "print(opt[0])\n",
    "\n",
    "# Tukey's HSD\n",
    "hsd = pairwise_tukeyhsd(df['score'], df['grade'], alpha=0.05)\n",
    "hsd.summary()"
   ]
  },
  {
   "cell_type": "code",
   "execution_count": null,
   "metadata": {
    "scrolled": true
   },
   "outputs": [],
   "source": [
    "# Two-way ANOVA\n",
    "\n",
    "data2 = pd.read_csv('score2.csv')\n",
    "data2.head()"
   ]
  },
  {
   "cell_type": "code",
   "execution_count": null,
   "metadata": {},
   "outputs": [],
   "source": [
    "#data2.groupby('grade').agg(len)\n",
    "data2.groupby('class').agg(len)\n",
    "#data2.groupby(['grade', 'class']).agg(len)"
   ]
  },
  {
   "cell_type": "code",
   "execution_count": null,
   "metadata": {},
   "outputs": [],
   "source": [
    "model2 = ols('score ~ C(grade)*C(class)', data=data2).fit()\n",
    "anova_lm(model2)"
   ]
  },
  {
   "cell_type": "code",
   "execution_count": null,
   "metadata": {},
   "outputs": [],
   "source": [
    "# statsmodels anova_lm type : Referred https://jooskorstanje.com/anova-types-of-sums-of-squares-notebook.html\n",
    "\n",
    "weekday = ['sat', 'sat', 'sat', 'sat', 'sat', 'sat', 'sun', 'sun', 'sun', 'sun']\n",
    "weather = ['rain', 'rain', 'rain', 'rain', 'rain', 'sun', 'sun', 'sun', 'sun', 'sun']\n",
    "sales = [100, 100, 100, 100, 100, 10000, 10000, 10000, 10000, 10000]\n",
    "\n",
    "data = pd.DataFrame({'weekday': weekday, 'weather': weather, 'sales': sales})\n",
    "data"
   ]
  },
  {
   "cell_type": "code",
   "execution_count": null,
   "metadata": {},
   "outputs": [],
   "source": [
    "# Type I tells us that weekday is more important. The interaction effect is not signifcant.\n",
    "lm = ols('sales ~ C(weekday)*C(weather)',data=data).fit()\n",
    "table = sm.stats.anova_lm(lm, typ=1) # Type 1 ANOVA DataFrame\n",
    "print(table)"
   ]
  },
  {
   "cell_type": "code",
   "execution_count": null,
   "metadata": {},
   "outputs": [],
   "source": [
    "# Type II tells us that weather is more important. There is no interaction effect.\n",
    "lm = ols('sales ~ C(weekday) + C(weather)',data=data).fit()\n",
    "table = sm.stats.anova_lm(lm, typ=2) # Type 2 ANOVA DataFrame\n",
    "print(table)"
   ]
  },
  {
   "cell_type": "code",
   "execution_count": null,
   "metadata": {},
   "outputs": [],
   "source": [
    "# Type III tells us that weekday is more important. The interaction effect is not signifcant.\n",
    "lm = ols('sales ~ C(weekday)*C(weather)',data=data).fit()\n",
    "table = sm.stats.anova_lm(lm, typ=3) # Type 3 ANOVA DataFrame\n",
    "print(table)"
   ]
  }
 ],
 "metadata": {
  "kernelspec": {
   "display_name": "Python 3",
   "language": "python",
   "name": "python3"
  },
  "language_info": {
   "codemirror_mode": {
    "name": "ipython",
    "version": 3
   },
   "file_extension": ".py",
   "mimetype": "text/x-python",
   "name": "python",
   "nbconvert_exporter": "python",
   "pygments_lexer": "ipython3",
   "version": "3.8.2"
  }
 },
 "nbformat": 4,
 "nbformat_minor": 4
}
